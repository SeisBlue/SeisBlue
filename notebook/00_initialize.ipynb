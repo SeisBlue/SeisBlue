{
 "cells": [
  {
   "cell_type": "markdown",
   "source": [
    "# Initialize the SeisNN workspace."
   ],
   "metadata": {
    "collapsed": false,
    "pycharm": {
     "name": "#%% md\n"
    }
   }
  },
  {
   "cell_type": "code",
   "execution_count": null,
   "metadata": {
    "collapsed": true
   },
   "outputs": [],
   "source": [
    "import os\n",
    "import yaml\n",
    "\n",
    "from seisnn.utils import make_dirs"
   ]
  },
  {
   "cell_type": "markdown",
   "source": [
    "Set your SDS Database and workspace path"
   ],
   "metadata": {
    "collapsed": false,
    "pycharm": {
     "name": "#%% md\n"
    }
   }
  },
  {
   "cell_type": "code",
   "execution_count": null,
   "outputs": [],
   "source": [
    "WORKSPACE = os.path.expanduser('~')\n",
    "SDS_ROOT = os.path.join(WORKSPACE, 'SDS_ROOT')\n",
    "SFILE_ROOT = os.path.join(WORKSPACE, 'SFILE_ROOT')"
   ],
   "metadata": {
    "collapsed": false,
    "pycharm": {
     "name": "#%%\n"
    }
   }
  },
  {
   "cell_type": "markdown",
   "source": [
    "Create file structure"
   ],
   "metadata": {
    "collapsed": false,
    "pycharm": {
     "name": "#%% md\n"
    }
   }
  },
  {
   "cell_type": "code",
   "execution_count": null,
   "outputs": [],
   "source": [
    "TFRECORD_ROOT = os.path.join(WORKSPACE, 'tfrecord')\n",
    "DATABASE_ROOT = os.path.join(WORKSPACE, 'database')\n",
    "\n",
    "CATALOG_ROOT = os.path.join(WORKSPACE, 'catalog')\n",
    "GEOM_ROOT = os.path.join(WORKSPACE, 'geom')\n",
    "MODELS_ROOT = os.path.join(WORKSPACE, 'models')\n",
    "\n",
    "config = {'WORKSPACE': WORKSPACE,\n",
    "          'SDS_ROOT': SDS_ROOT,\n",
    "          'SFILE_ROOT': SFILE_ROOT,\n",
    "\n",
    "          'TFRECORD_ROOT': TFRECORD_ROOT,\n",
    "          'DATABASE_ROOT': DATABASE_ROOT,\n",
    "\n",
    "          'CATALOG_ROOT': CATALOG_ROOT,\n",
    "          'GEOM_ROOT': GEOM_ROOT,\n",
    "          'MODELS_ROOT': MODELS_ROOT,\n",
    "          }"
   ],
   "metadata": {
    "collapsed": false,
    "pycharm": {
     "name": "#%%\n"
    }
   }
  },
  {
   "cell_type": "markdown",
   "source": [
    "mkdir for all folders and store into config.yaml"
   ],
   "metadata": {
    "collapsed": false,
    "pycharm": {
     "name": "#%% md\n"
    }
   }
  },
  {
   "cell_type": "code",
   "execution_count": null,
   "outputs": [],
   "source": [
    "for d in [TFRECORD_ROOT, DATABASE_ROOT, CATALOG_ROOT, MODELS_ROOT, GEOM_ROOT]:\n",
    "    make_dirs(d)"
   ],
   "metadata": {
    "collapsed": false,
    "pycharm": {
     "name": "#%%\n"
    }
   }
  },
  {
   "cell_type": "markdown",
   "source": [
    "Add SeisNN in python path"
   ],
   "metadata": {
    "collapsed": false,
    "pycharm": {
     "name": "#%% md\n"
    }
   }
  },
  {
   "cell_type": "code",
   "execution_count": null,
   "outputs": [],
   "source": [
    "with open(os.path.join(os.path.expanduser(\"~\"), '.bashrc'), 'w') as file:\n",
    "    file.write('export PYTHONPATH=/SeisNN:$PYTHONPATH')"
   ],
   "metadata": {
    "collapsed": false,
    "pycharm": {
     "name": "#%%\n"
    }
   }
  },
  {
   "cell_type": "markdown",
   "source": [
    "Write all config into config.yaml"
   ],
   "metadata": {
    "collapsed": false,
    "pycharm": {
     "name": "#%% md\n"
    }
   }
  },
  {
   "cell_type": "code",
   "execution_count": null,
   "outputs": [],
   "source": [
    "with open(os.path.join(os.path.expanduser(\"~\"), 'config.yaml'), 'w') as file:\n",
    "    yaml.dump(config, file, sort_keys=False)"
   ],
   "metadata": {
    "collapsed": false,
    "pycharm": {
     "name": "#%%\n"
    }
   }
  },
  {
   "cell_type": "markdown",
   "source": [
    "Test config"
   ],
   "metadata": {
    "collapsed": false,
    "pycharm": {
     "name": "#%% md\n"
    }
   }
  },
  {
   "cell_type": "code",
   "execution_count": null,
   "outputs": [],
   "source": [
    "from seisnn.utils import get_config\n",
    "config = get_config()\n",
    "print(config)"
   ],
   "metadata": {
    "collapsed": false,
    "pycharm": {
     "name": "#%%\n"
    }
   }
  }
 ],
 "metadata": {
  "kernelspec": {
   "display_name": "Python 3",
   "language": "python",
   "name": "python3"
  },
  "language_info": {
   "codemirror_mode": {
    "name": "ipython",
    "version": 2
   },
   "file_extension": ".py",
   "mimetype": "text/x-python",
   "name": "python",
   "nbconvert_exporter": "python",
   "pygments_lexer": "ipython2",
   "version": "2.7.6"
  }
 },
 "nbformat": 4,
 "nbformat_minor": 0
}