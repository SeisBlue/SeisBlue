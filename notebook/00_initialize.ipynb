{
 "cells": [
  {
   "cell_type": "markdown",
   "metadata": {
    "pycharm": {
     "name": "#%% md\n"
    }
   },
   "source": [
    "# Initialize the SeisNN workspace."
   ]
  },
  {
   "cell_type": "code",
   "execution_count": 1,
   "metadata": {},
   "outputs": [],
   "source": [
    "import os\n",
    "import yaml\n",
    "\n",
    "import seisnn"
   ]
  },
  {
   "cell_type": "markdown",
   "metadata": {
    "pycharm": {
     "name": "#%% md\n"
    }
   },
   "source": [
    "Set your SDS Database and workspace path"
   ]
  },
  {
   "cell_type": "code",
   "execution_count": 2,
   "metadata": {
    "collapsed": false,
    "jupyter": {
     "outputs_hidden": false
    },
    "pycharm": {
     "name": "#%%\n"
    }
   },
   "outputs": [],
   "source": [
    "WORKSPACE = os.path.expanduser('~')\n",
    "SDS_ROOT = os.path.join(WORKSPACE, 'SDS_ROOT')\n",
    "SFILE_ROOT = os.path.join(WORKSPACE, 'SFILE_ROOT')"
   ]
  },
  {
   "cell_type": "markdown",
   "metadata": {
    "pycharm": {
     "name": "#%% md\n"
    }
   },
   "source": [
    "Create file structure"
   ]
  },
  {
   "cell_type": "code",
   "execution_count": 3,
   "metadata": {
    "collapsed": false,
    "jupyter": {
     "outputs_hidden": false
    },
    "pycharm": {
     "name": "#%%\n"
    }
   },
   "outputs": [],
   "source": [
    "DATASET_ROOT = os.path.join(WORKSPACE, 'dataset')\n",
    "SQL_ROOT = os.path.join(WORKSPACE, 'sql_database')\n",
    "\n",
    "CATALOG_ROOT = os.path.join(WORKSPACE, 'catalog')\n",
    "GEOM_ROOT = os.path.join(WORKSPACE, 'geom')\n",
    "MODELS_ROOT = os.path.join(WORKSPACE, 'models')\n",
    "\n",
    "config = {\n",
    "    'WORKSPACE': WORKSPACE,\n",
    "    'SDS_ROOT': SDS_ROOT,\n",
    "    'SFILE_ROOT': SFILE_ROOT,\n",
    "\n",
    "    'DATASET_ROOT': DATASET_ROOT,\n",
    "    'SQL_ROOT': SQL_ROOT,\n",
    "\n",
    "    'CATALOG_ROOT': CATALOG_ROOT,\n",
    "    'GEOM_ROOT': GEOM_ROOT,\n",
    "    'MODELS_ROOT': MODELS_ROOT,\n",
    "}\n"
   ]
  },
  {
   "cell_type": "markdown",
   "metadata": {
    "pycharm": {
     "name": "#%% md\n"
    }
   },
   "source": [
    "mkdir for all folders and store into config.yaml"
   ]
  },
  {
   "cell_type": "code",
   "execution_count": 4,
   "metadata": {
    "collapsed": false,
    "jupyter": {
     "outputs_hidden": false
    },
    "pycharm": {
     "name": "#%%\n"
    }
   },
   "outputs": [],
   "source": [
    "for d in [DATASET_ROOT, SQL_ROOT, CATALOG_ROOT, MODELS_ROOT, GEOM_ROOT]:\n",
    "    seisnn.utils.make_dirs(d)"
   ]
  },
  {
   "cell_type": "markdown",
   "metadata": {
    "pycharm": {
     "name": "#%% md\n"
    }
   },
   "source": [
    "Write all config into config.yaml"
   ]
  },
  {
   "cell_type": "code",
   "execution_count": 5,
   "metadata": {
    "collapsed": false,
    "jupyter": {
     "outputs_hidden": false
    },
    "pycharm": {
     "name": "#%%\n"
    }
   },
   "outputs": [],
   "source": [
    "with open(os.path.join(os.path.expanduser(\"~\"), 'config.yaml'), 'w') as file:\n",
    "    yaml.dump(config, file, sort_keys=False)"
   ]
  },
  {
   "cell_type": "markdown",
   "metadata": {
    "pycharm": {
     "name": "#%% md\n"
    }
   },
   "source": [
    "Test config"
   ]
  },
  {
   "cell_type": "code",
   "execution_count": 6,
   "metadata": {
    "collapsed": false,
    "jupyter": {
     "outputs_hidden": false
    },
    "pycharm": {
     "name": "#%%\n"
    }
   },
   "outputs": [
    {
     "name": "stdout",
     "output_type": "stream",
     "text": [
      "{'WORKSPACE': '/home/jimmy', 'SDS_ROOT': '/home/jimmy/SDS_ROOT', 'SFILE_ROOT': '/home/jimmy/SFILE_ROOT', 'TFRECORD_ROOT': '/home/jimmy/tfrecord', 'DATABASE_ROOT': '/home/jimmy/database', 'CATALOG_ROOT': '/home/jimmy/catalog', 'GEOM_ROOT': '/home/jimmy/geom', 'MODELS_ROOT': '/home/jimmy/models'}\n"
     ]
    }
   ],
   "source": [
    "config = seisnn.utils.get_config()\n",
    "print(config)"
   ]
  },
  {
   "cell_type": "code",
   "execution_count": null,
   "metadata": {},
   "outputs": [],
   "source": []
  }
 ],
 "metadata": {
  "kernelspec": {
   "display_name": "Python 3",
   "language": "python",
   "name": "python3"
  },
  "language_info": {
   "codemirror_mode": {
    "name": "ipython",
    "version": 3
   },
   "file_extension": ".py",
   "mimetype": "text/x-python",
   "name": "python",
   "nbconvert_exporter": "python",
   "pygments_lexer": "ipython3",
   "version": "3.6.9"
  }
 },
 "nbformat": 4,
 "nbformat_minor": 4
}